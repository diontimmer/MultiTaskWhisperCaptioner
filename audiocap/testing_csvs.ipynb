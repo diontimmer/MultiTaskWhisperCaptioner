{
 "cells": [
  {
   "cell_type": "code",
   "execution_count": 26,
   "metadata": {},
   "outputs": [],
   "source": [
    "import pandas as pd\n",
    "import numpy as np\n",
    "import os\n",
    "import pathlib"
   ]
  },
  {
   "cell_type": "code",
   "execution_count": 2,
   "metadata": {},
   "outputs": [
    {
     "name": "stdout",
     "output_type": "stream",
     "text": [
      "/mnt/storage-plzen1/home/ahajek/10semester/audio_challenge/audio-captioning/audiocap\n"
     ]
    }
   ],
   "source": [
    "!pwd"
   ]
  },
  {
   "cell_type": "code",
   "execution_count": 48,
   "metadata": {},
   "outputs": [],
   "source": [
    "audioset_folder = \"/storage/plzen1/home/ahajek/10semester/audio_challenge/audio-captioning/data/audioset/\"\n",
    "\n",
    "def read_audioset_csv(csv_path):\n",
    "    return pd.read_csv(\n",
    "        csv_path,\n",
    "        comment='#',\n",
    "        sep=\", \",\n",
    "        engine='python',\n",
    "        header=None,\n",
    "        names=['youtube_id', 'start_seconds', 'end_seconds', 'labels']\n",
    "    )\n",
    "\n",
    "df_unbalanced = read_audioset_csv(audioset_folder + 'csvs/train_unbalanced.csv')\n",
    "df_balanced = read_audioset_csv(audioset_folder + 'csvs/train_balanced.csv')\n",
    "df_eval = read_audioset_csv(audioset_folder + 'csvs/eval.csv')"
   ]
  },
  {
   "cell_type": "code",
   "execution_count": 51,
   "metadata": {},
   "outputs": [
    {
     "data": {
      "text/html": [
       "<div>\n",
       "<style scoped>\n",
       "    .dataframe tbody tr th:only-of-type {\n",
       "        vertical-align: middle;\n",
       "    }\n",
       "\n",
       "    .dataframe tbody tr th {\n",
       "        vertical-align: top;\n",
       "    }\n",
       "\n",
       "    .dataframe thead th {\n",
       "        text-align: right;\n",
       "    }\n",
       "</style>\n",
       "<table border=\"1\" class=\"dataframe\">\n",
       "  <thead>\n",
       "    <tr style=\"text-align: right;\">\n",
       "      <th></th>\n",
       "      <th>youtube_id</th>\n",
       "      <th>start_seconds</th>\n",
       "      <th>end_seconds</th>\n",
       "      <th>labels</th>\n",
       "    </tr>\n",
       "  </thead>\n",
       "  <tbody>\n",
       "    <tr>\n",
       "      <th>0</th>\n",
       "      <td>---1_cCGK4M</td>\n",
       "      <td>0.0</td>\n",
       "      <td>10.0</td>\n",
       "      <td>\"/m/01g50p,/m/0284vy3,/m/06d_3,/m/07jdr,/m/07r...</td>\n",
       "    </tr>\n",
       "    <tr>\n",
       "      <th>1</th>\n",
       "      <td>---2_BBVHAA</td>\n",
       "      <td>30.0</td>\n",
       "      <td>40.0</td>\n",
       "      <td>\"/m/09x0r\"</td>\n",
       "    </tr>\n",
       "    <tr>\n",
       "      <th>2</th>\n",
       "      <td>---B_v8ZoBY</td>\n",
       "      <td>30.0</td>\n",
       "      <td>40.0</td>\n",
       "      <td>\"/m/04rlf\"</td>\n",
       "    </tr>\n",
       "    <tr>\n",
       "      <th>3</th>\n",
       "      <td>---EDNidJUA</td>\n",
       "      <td>30.0</td>\n",
       "      <td>40.0</td>\n",
       "      <td>\"/m/02qldy,/m/02zsn,/m/05zppz,/m/09x0r\"</td>\n",
       "    </tr>\n",
       "    <tr>\n",
       "      <th>4</th>\n",
       "      <td>---N4cFAE1A</td>\n",
       "      <td>21.0</td>\n",
       "      <td>31.0</td>\n",
       "      <td>\"/m/04rlf,/m/09x0r\"</td>\n",
       "    </tr>\n",
       "    <tr>\n",
       "      <th>5</th>\n",
       "      <td>---fcVQUf3E</td>\n",
       "      <td>30.0</td>\n",
       "      <td>40.0</td>\n",
       "      <td>\"/m/019jd,/m/07yv9\"</td>\n",
       "    </tr>\n",
       "    <tr>\n",
       "      <th>6</th>\n",
       "      <td>---g9OGAhwc</td>\n",
       "      <td>30.0</td>\n",
       "      <td>40.0</td>\n",
       "      <td>\"/m/04rlf,/m/0c1dj\"</td>\n",
       "    </tr>\n",
       "    <tr>\n",
       "      <th>7</th>\n",
       "      <td>---lTs1dxhU</td>\n",
       "      <td>30.0</td>\n",
       "      <td>40.0</td>\n",
       "      <td>\"/m/012f08,/m/07yv9,/m/0k4j,/t/dd00134\"</td>\n",
       "    </tr>\n",
       "    <tr>\n",
       "      <th>8</th>\n",
       "      <td>---mO--kRQk</td>\n",
       "      <td>30.0</td>\n",
       "      <td>40.0</td>\n",
       "      <td>\"/m/04rlf\"</td>\n",
       "    </tr>\n",
       "    <tr>\n",
       "      <th>9</th>\n",
       "      <td>---qub7uxgs</td>\n",
       "      <td>30.0</td>\n",
       "      <td>40.0</td>\n",
       "      <td>\"/m/09x0r\"</td>\n",
       "    </tr>\n",
       "  </tbody>\n",
       "</table>\n",
       "</div>"
      ],
      "text/plain": [
       "    youtube_id  start_seconds  end_seconds  \\\n",
       "0  ---1_cCGK4M            0.0         10.0   \n",
       "1  ---2_BBVHAA           30.0         40.0   \n",
       "2  ---B_v8ZoBY           30.0         40.0   \n",
       "3  ---EDNidJUA           30.0         40.0   \n",
       "4  ---N4cFAE1A           21.0         31.0   \n",
       "5  ---fcVQUf3E           30.0         40.0   \n",
       "6  ---g9OGAhwc           30.0         40.0   \n",
       "7  ---lTs1dxhU           30.0         40.0   \n",
       "8  ---mO--kRQk           30.0         40.0   \n",
       "9  ---qub7uxgs           30.0         40.0   \n",
       "\n",
       "                                              labels  \n",
       "0  \"/m/01g50p,/m/0284vy3,/m/06d_3,/m/07jdr,/m/07r...  \n",
       "1                                         \"/m/09x0r\"  \n",
       "2                                         \"/m/04rlf\"  \n",
       "3            \"/m/02qldy,/m/02zsn,/m/05zppz,/m/09x0r\"  \n",
       "4                                \"/m/04rlf,/m/09x0r\"  \n",
       "5                                \"/m/019jd,/m/07yv9\"  \n",
       "6                                \"/m/04rlf,/m/0c1dj\"  \n",
       "7            \"/m/012f08,/m/07yv9,/m/0k4j,/t/dd00134\"  \n",
       "8                                         \"/m/04rlf\"  \n",
       "9                                         \"/m/09x0r\"  "
      ]
     },
     "execution_count": 51,
     "metadata": {},
     "output_type": "execute_result"
    }
   ],
   "source": [
    "df_unbalanced.head(10)"
   ]
  },
  {
   "cell_type": "code",
   "execution_count": null,
   "metadata": {},
   "outputs": [],
   "source": [
    "def prepare_audioset_audiofolder(\n",
    "    clotho_path: pathlib.Path = typer.Argument(..., help=\"Path to the Clotho dataset\")\n",
    ") -> None:\n",
    "    import pandas as pd\n",
    "\n",
    "    expected_paths = [\n",
    "        clotho_path / \"development/\",\n",
    "        clotho_path / \"evaluation/\",\n",
    "        clotho_path / \"validation/\",\n",
    "        clotho_path / \"test/\",\n",
    "        clotho_path / \"clotho_captions_development.csv\",\n",
    "        clotho_path / \"clotho_captions_evaluation.csv\",\n",
    "        clotho_path / \"clotho_captions_validation.csv\",\n",
    "        clotho_path / \"clotho_metadata_development.csv\",\n",
    "        clotho_path / \"clotho_metadata_evaluation.csv\",\n",
    "        clotho_path / \"clotho_metadata_validation.csv\",\n",
    "        clotho_path / \"clotho_metadata_test.csv\",\n",
    "    ]\n",
    "    \n",
    "    for path in expected_paths:\n",
    "        if not path.exists():\n",
    "            print(\"your folder structure should contain: \")\n",
    "            rich.print(expected_paths)\n",
    "            print(\"but it does not contain: \" + str(path))\n",
    "            raise FileNotFoundError(path)\n",
    "\n",
    "    for split in [\"development\", \"evaluation\", \"validation\"]:\n",
    "        df_captions = pd.read_csv(clotho_path / f\"clotho_captions_{split}.csv\", engine=\"python\")\n",
    "        df = df_captions\n",
    "        df.to_json(clotho_path / split / \"metadata.jsonl\", orient=\"records\", force_ascii=False, lines=True)\n",
    "\n",
    "    print(\"Clotho prepared for loading with audiofolder. \")\n",
    "    print(\"To avoid accidental changes of the files inside the folder, run the following command:\")\n",
    "    print(f\"  chmod u-x '{clotho_path}'\")"
   ]
  },
  {
   "cell_type": "code",
   "execution_count": 70,
   "metadata": {},
   "outputs": [
    {
     "ename": "ModuleNotFoundError",
     "evalue": "No module named 'transformers'",
     "output_type": "error",
     "traceback": [
      "\u001b[0;31m---------------------------------------------------------------------------\u001b[0m",
      "\u001b[0;31mModuleNotFoundError\u001b[0m                       Traceback (most recent call last)",
      "Cell \u001b[0;32mIn[70], line 1\u001b[0m\n\u001b[0;32m----> 1\u001b[0m \u001b[38;5;28;01mfrom\u001b[39;00m \u001b[38;5;21;01mtransformers\u001b[39;00m \u001b[38;5;28;01mimport\u001b[39;00m WhisperTokenizer\n",
      "\u001b[0;31mModuleNotFoundError\u001b[0m: No module named 'transformers'"
     ]
    }
   ],
   "source": [
    "from transformers import WhisperTokenizer"
   ]
  },
  {
   "cell_type": "code",
   "execution_count": 67,
   "metadata": {},
   "outputs": [
    {
     "ename": "NameError",
     "evalue": "name 'WhisperTokenizer' is not defined",
     "output_type": "error",
     "traceback": [
      "\u001b[0;31m---------------------------------------------------------------------------\u001b[0m",
      "\u001b[0;31mNameError\u001b[0m                                 Traceback (most recent call last)",
      "Cell \u001b[0;32mIn[67], line 1\u001b[0m\n\u001b[0;32m----> 1\u001b[0m tokenizer \u001b[38;5;241m=\u001b[39m \u001b[43mWhisperTokenizer\u001b[49m\u001b[38;5;241m.\u001b[39mfrom_pretrained(\u001b[38;5;124m\"\u001b[39m\u001b[38;5;124mopenai/whisper-tiny\u001b[39m\u001b[38;5;124m\"\u001b[39m, language\u001b[38;5;241m=\u001b[39m\u001b[38;5;124m\"\u001b[39m\u001b[38;5;124mspanish\u001b[39m\u001b[38;5;124m\"\u001b[39m)\n",
      "\u001b[0;31mNameError\u001b[0m: name 'WhisperTokenizer' is not defined"
     ]
    }
   ],
   "source": [
    "tokenizer = WhisperTokenizer.from_pretrained(\"openai/whisper-tiny\", language=\"spanish\")"
   ]
  },
  {
   "cell_type": "code",
   "execution_count": null,
   "metadata": {},
   "outputs": [],
   "source": []
  }
 ],
 "metadata": {
  "kernelspec": {
   "display_name": "Python 3 (ipykernel)",
   "language": "python",
   "name": "python3"
  },
  "language_info": {
   "codemirror_mode": {
    "name": "ipython",
    "version": 3
   },
   "file_extension": ".py",
   "mimetype": "text/x-python",
   "name": "python",
   "nbconvert_exporter": "python",
   "pygments_lexer": "ipython3",
   "version": "3.8.10"
  }
 },
 "nbformat": 4,
 "nbformat_minor": 4
}
